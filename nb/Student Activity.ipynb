{
 "cells": [
  {
   "cell_type": "markdown",
   "metadata": {},
   "source": [
    "# Student Activity "
   ]
  },
  {
   "cell_type": "code",
   "execution_count": 4,
   "metadata": {},
   "outputs": [
    {
     "data": {
      "text/html": [
       "<div>\n",
       "<style scoped>\n",
       "    .dataframe tbody tr th:only-of-type {\n",
       "        vertical-align: middle;\n",
       "    }\n",
       "\n",
       "    .dataframe tbody tr th {\n",
       "        vertical-align: top;\n",
       "    }\n",
       "\n",
       "    .dataframe thead th {\n",
       "        text-align: right;\n",
       "    }\n",
       "</style>\n",
       "<table border=\"1\" class=\"dataframe\">\n",
       "  <thead>\n",
       "    <tr style=\"text-align: right;\">\n",
       "      <th></th>\n",
       "      <th>Name</th>\n",
       "      <th>High School</th>\n",
       "      <th>Grade</th>\n",
       "      <th>Gender</th>\n",
       "    </tr>\n",
       "  </thead>\n",
       "  <tbody>\n",
       "    <tr>\n",
       "      <th>0</th>\n",
       "      <td>Alexis Chau</td>\n",
       "      <td>Arcadia High School</td>\n",
       "      <td>9</td>\n",
       "      <td>male</td>\n",
       "    </tr>\n",
       "    <tr>\n",
       "      <th>1</th>\n",
       "      <td>Owen Koh Lee</td>\n",
       "      <td>Arcadia High School</td>\n",
       "      <td>9</td>\n",
       "      <td>male</td>\n",
       "    </tr>\n",
       "    <tr>\n",
       "      <th>2</th>\n",
       "      <td>Julia Mason</td>\n",
       "      <td>None</td>\n",
       "      <td>10</td>\n",
       "      <td>female</td>\n",
       "    </tr>\n",
       "    <tr>\n",
       "      <th>3</th>\n",
       "      <td>Jeremiah-David Addai</td>\n",
       "      <td>Sage Oak Charter High School</td>\n",
       "      <td>9</td>\n",
       "      <td>male</td>\n",
       "    </tr>\n",
       "    <tr>\n",
       "      <th>4</th>\n",
       "      <td>Melissa Shun</td>\n",
       "      <td>Ramona Convent Secondary School</td>\n",
       "      <td>10</td>\n",
       "      <td>female</td>\n",
       "    </tr>\n",
       "  </tbody>\n",
       "</table>\n",
       "</div>"
      ],
      "text/plain": [
       "                   Name                      High School  Grade  Gender\n",
       "0           Alexis Chau              Arcadia High School      9    male\n",
       "1          Owen Koh Lee              Arcadia High School      9    male\n",
       "2           Julia Mason                             None     10  female\n",
       "3  Jeremiah-David Addai     Sage Oak Charter High School      9    male\n",
       "4          Melissa Shun  Ramona Convent Secondary School     10  female"
      ]
     },
     "execution_count": 4,
     "metadata": {},
     "output_type": "execute_result"
    }
   ],
   "source": [
    "import numpy as np\n",
    "import pandas as pd\n",
    "%matplotlib inline\n",
    "import matplotlib.pyplot as plt \n",
    "\n",
    "student_data = pd.read_csv(\"../data/m132-student-data.csv\") \n",
    "student_data.head() \n",
    "student_data.drop(list(student_data.columns)[0], axis=1, inplace=True) \n",
    "student_data.head()"
   ]
  },
  {
   "cell_type": "code",
   "execution_count": 17,
   "metadata": {},
   "outputs": [
    {
     "name": "stdout",
     "output_type": "stream",
     "text": [
      "11\n",
      "[7, 3, 1, 1, 1, 1, 2, 1, 1, 1, 1]\n",
      "{'Arcadia High School': 7, 'None': 3, 'Sage Oak Charter High School': 1, 'Ramona Convent Secondary School': 1, 'Granada Hills Charter High School': 1, 'Chaminade College Prep': 1, 'Temple City High School': 2, 'Ontario High School': 1, 'Irvine High School': 1, 'Arnold O Beckman High School': 1, 'Troy High School': 1}\n"
     ]
    }
   ],
   "source": [
    "# Pie Chart Out of High Schools \n",
    "\n",
    "# number of high schools \n",
    "print(student_data['High School'].nunique()) \n",
    "\n",
    "# List of High Schools \n",
    "\n",
    "# We'll use a list comprehension \n",
    "\n",
    "hs_counts = [len(student_data[student_data['High School'] == i]) for i in student_data['High School'].unique()]\n",
    "print(hs_counts) \n",
    "\n",
    "# list \n",
    "\n",
    "hs = list(student_data['High School']) \n",
    "\n",
    "hs_dict = {i: hs.count(i) for i in hs}  \n",
    "print(hs_dict) \n"
   ]
  },
  {
   "cell_type": "code",
   "execution_count": null,
   "metadata": {},
   "outputs": [],
   "source": []
  }
 ],
 "metadata": {
  "kernelspec": {
   "display_name": "Python 3",
   "language": "python",
   "name": "python3"
  },
  "language_info": {
   "codemirror_mode": {
    "name": "ipython",
    "version": 3
   },
   "file_extension": ".py",
   "mimetype": "text/x-python",
   "name": "python",
   "nbconvert_exporter": "python",
   "pygments_lexer": "ipython3",
   "version": "3.6.8"
  },
  "nbTranslate": {
   "displayLangs": [
    "*"
   ],
   "hotkey": "alt-t",
   "langInMainMenu": true,
   "sourceLang": "en",
   "targetLang": "fr",
   "useGoogleTranslate": true
  }
 },
 "nbformat": 4,
 "nbformat_minor": 2
}
